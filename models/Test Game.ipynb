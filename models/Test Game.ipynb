{
 "cells": [
  {
   "cell_type": "code",
   "execution_count": 1,
   "metadata": {},
   "outputs": [],
   "source": [
    "from Character import *\n",
    "from DNDClass import DNDClass\n",
    "from Session import Session\n",
    "import utils\n",
    "\n",
    "# %load_ext autoreload\n",
    "# %autoreload 2"
   ]
  },
  {
   "cell_type": "code",
   "execution_count": 2,
   "metadata": {},
   "outputs": [],
   "source": [
    "#Initialize Session\n",
    "ts = Session()\n",
    "\n",
    "#Initialize Players\n",
    "p1scores = [16, 14, 18, 12, 10, 8]\n",
    "weapon = Weapon('sword')\n",
    "armor = Armor('leather')\n",
    "p1 = Playable('Player1', 1, 15, 'Elf', p1scores, DNDClass('Fighter'), weapon, armor, 'Chaotic Good', [Skills.Athletics])\n",
    "\n",
    "c1scores = [16, 14, 18, 12, 10, 8]\n",
    "c1 = Character('Char1', 1, 8, 'Human', c1scores, weapon, armor)"
   ]
  },
  {
   "cell_type": "code",
   "execution_count": 3,
   "metadata": {},
   "outputs": [
    {
     "name": "stdout",
     "output_type": "stream",
     "text": [
      "Attack Success. You deal damage with your sword\n",
      "Char1 falls unconscious.\n"
     ]
    }
   ],
   "source": [
    "###Show how to take rest and for a day to pass\n",
    "#During a rest, players have 3 of their daily hit die to roll to restore health\n",
    "#During a night's sleep (in an inn or bed or camp), players return to full health and gain their spell slots back\n",
    "\n",
    "ts.attack(p1, c1, 15, 8)"
   ]
  },
  {
   "cell_type": "code",
   "execution_count": 4,
   "metadata": {},
   "outputs": [
    {
     "name": "stdout",
     "output_type": "stream",
     "text": [
      "{\"abilities\": {\"1\": 3, \"2\": 2, \"3\": 4, \"4\": 1, \"5\": 0, \"6\": -1}, \"name\": \"Player1\", \"lvl\": 1, \"xp\": 0, \"base_hp\": 15, \"cur_hp\": 15, \"race\": \"Elf\", \"ac\": 14, \"proficiency\": 2.25, \"weapons\": {\"sword\": {\"name\": \"sword\", \"atktype\": \"melee\", \"droll\": \"2d4\", \"dtype\": \"slashing\"}}, \"armor\": {\"leather\": {\"name\": \"leather\", \"baseac\": 12, \"weight\": \"light\"}}, \"cur_weapon\": {\"name\": \"sword\", \"atktype\": \"melee\", \"droll\": \"2d4\", \"dtype\": \"slashing\"}, \"cur_armor\": {\"name\": \"leather\", \"baseac\": 12, \"weight\": \"light\"}}\n",
      "Saved character to Player1_str.txt\n"
     ]
    }
   ],
   "source": [
    "p1.save_character()"
   ]
  },
  {
   "cell_type": "code",
   "execution_count": 6,
   "metadata": {},
   "outputs": [
    {
     "name": "stdout",
     "output_type": "stream",
     "text": [
      "{'abilities': {'1': 3, '2': 2, '3': 4, '4': 1, '5': 0, '6': -1}, 'name': 'Player1', 'lvl': 1, 'xp': 0, 'base_hp': 15, 'cur_hp': 15, 'race': 'Elf', 'ac': 14, 'proficiency': 2.25, 'weapons': {'sword': {'name': 'sword', 'atktype': 'melee', 'droll': '2d4', 'dtype': 'slashing'}}, 'armor': {'leather': {'name': 'leather', 'baseac': 12, 'weight': 'light'}}, 'cur_weapon': {'name': 'sword', 'atktype': 'melee', 'droll': '2d4', 'dtype': 'slashing'}, 'cur_armor': {'name': 'leather', 'baseac': 12, 'weight': 'light'}}\n"
     ]
    }
   ],
   "source": [
    "import json\n",
    "newp = json.load(open('Player1_str.txt', 'r'))\n",
    "print(newp)"
   ]
  },
  {
   "cell_type": "code",
   "execution_count": null,
   "metadata": {},
   "outputs": [],
   "source": []
  }
 ],
 "metadata": {
  "kernelspec": {
   "display_name": "Python 3",
   "language": "python",
   "name": "python3"
  },
  "language_info": {
   "codemirror_mode": {
    "name": "ipython",
    "version": 3
   },
   "file_extension": ".py",
   "mimetype": "text/x-python",
   "name": "python",
   "nbconvert_exporter": "python",
   "pygments_lexer": "ipython3",
   "version": "3.6.1"
  }
 },
 "nbformat": 4,
 "nbformat_minor": 2
}
