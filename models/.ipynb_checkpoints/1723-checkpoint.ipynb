{
 "cells": [
  {
   "cell_type": "code",
   "execution_count": 19,
   "metadata": {},
   "outputs": [
    {
     "name": "stdout",
     "output_type": "stream",
     "text": [
      "The autoreload extension is already loaded. To reload it, use:\n",
      "  %reload_ext autoreload\n"
     ]
    }
   ],
   "source": [
    "from Character import *\n",
    "from DNDClass import DNDClass\n",
    "from Armor import Armor\n",
    "from Weapon import Weapon\n",
    "from Session import Session\n",
    "from utils import \n",
    "import utils\n",
    "\n",
    "%load_ext autoreload\n",
    "\n",
    "%autoreload 2"
   ]
  },
  {
   "cell_type": "code",
   "execution_count": 33,
   "metadata": {},
   "outputs": [],
   "source": [
    "### Davorin Raintalker (Aubrey)\n",
    "davorin_mace = Weapon('Mace', 'melee', '1d6', 'bludgeoning')\n",
    "davorin_handaxe = Weapon('Handaxe', 'melee', '1d6', 'slashing')\n",
    "davorin_mail = Armor('Scale Mail', 14, 'medium')\n",
    "davorin_skills = [Skills.Medicine, Skills.Persuasion]\n",
    "\n",
    "davorin_scores = [12, 10, 14, 8, 17, 14]\n",
    "davorin = Playable('Davorin', 1, 16, 'Human', davorin_scores, DNDClass('Cleric'), davorin_mace, davorin_mail, 'Chaotic Good', davorin_skills)\n",
    "davorin.add_weapon(davorin_handaxe)\n",
    "### Varus (Sean)\n",
    "varus_scimitar = Weapon('Scimitar', 'melee', '1d6', 'slashing')\n",
    "varus_leather = Armor('Leather', 13, 'light')\n",
    "\n",
    "varus_scores = [12, 10, 13, 15, 16, 8]\n",
    "varus_skills = [Skills.Arcana, Skills.Insight, Skills.Nature, Skills.Perception, Skills.Religion]\n",
    "\n",
    "varus = Playable('Varus', 1, 13, 'High Elf', varus_scores, DNDClass('Druid'), varus_scimitar, varus_leather, 'Neutral Good', varus_skills)\n",
    "\n",
    "varus.ati('miniature platinum gold, 40gp')\n",
    "\n",
    "varus.learn_spell('Shillelagh', description='Allows player to use WIS mod for attacks')\n",
    "varus.learn_spell('Poison Spray', description='TODO')\n",
    "### Galenas (Jonah)\n",
    "galenas_scores = [14, 16, 12, 13, 8, 12]\n",
    "galenas = Playable('Galenas', 1, 15, 'Half Elf', galenas_scores,\n",
    "                   DNDClass('Ranger'),\n",
    "                   Weapon('Longbow', 'ranged', '1d8'),\n",
    "                   Armor('Leather', 13, 'light'),\n",
    "                   'Chaotic Neutral',\n",
    "                   [Skills.Acrobatics, Skills.Arcana, Skills.Nature, Skills.Perception])\n",
    "### Dardan (Jacob)\n",
    "dardan_scores = [16, 14, 13, 9, 8, 12]\n",
    "dardan_greatsword = Weapon('Greatsword', 'melee', '2d6')\n",
    "dardan = Playable('Dardan', 1, 17, 'Dragonborn', dardan_scores,\n",
    "                 DNDClass('Fighter'),\n",
    "                 Weapon('Light Crossbow', 'ranged', '1d8'),\n",
    "                 Armor('Chain Mail', 16, 'Heavy'),\n",
    "                 'Chaotic Evil',\n",
    "                 [Skills.AnimalHandling, Skills.Athletics, Skills.Intimidation, Skills.Perception])\n",
    "\n",
    "leather = Armor('Leather', 13, 'Light')\n",
    "### NeoZen (Zain)\n",
    "neo_scores = [8, 16, 13, 14, 10, 12]\n",
    "neo = Playable('NeoZen', 1, 10, 'High Elf', neo_scores,\n",
    "              DNDClass('Rogue'),\n",
    "              Weapon('Dagger', 'melee', '1d4'),\n",
    "              leather,\n",
    "              'Chaotic Good',\n",
    "              [Skills.Insight, Skills.Intimidation, Skills.Persuasion, Skills.Perception, Skills.Stealth])\n",
    "\n",
    "nahcren_scores = [17, 14, 13, 12, 10, 8]\n",
    "nahcren = Playable('Nachren', 1, 22, 'Half Orc', nahcren_scores,\n",
    "                DNDClass('Barbarian'),\n",
    "                greatsword,\n",
    "                leather,\n",
    "                'Chaotic Good',\n",
    "                [Skills.Athletics])\n",
    "\n",
    "m_scores = [18, 14, 14, 10, 12, 8]\n",
    "\n",
    "shortsword = Weapon('shortsword', 'melee', '1d6', 'piercing')\n",
    "\n",
    "louis = Playable('Louis Vuitton', 1, 18, 'Half Orc', m_scores,\n",
    "           DNDClass('Barbarian'),\n",
    "           shortsword,\n",
    "           leather,\n",
    "           'Chaotic Good',\n",
    "           [Skills.Perception, Skills.Intimidation, Skills.Survival])\n",
    "    "
   ]
  },
  {
   "cell_type": "code",
   "execution_count": 35,
   "metadata": {},
   "outputs": [
    {
     "name": "stdout",
     "output_type": "stream",
     "text": [
      "29.0\n",
      "22.0\n",
      "23.0\n",
      "24.0\n",
      "29.0\n",
      "28.0\n"
     ]
    },
    {
     "name": "stderr",
     "output_type": "stream",
     "text": [
      "[autoreload of Character failed: Traceback (most recent call last):\n",
      "  File \"/Users/jakepeacock/anaconda/lib/python3.6/site-packages/IPython/extensions/autoreload.py\", line 247, in check\n",
      "    superreload(m, reload, self.old_objects)\n",
      "RecursionError: maximum recursion depth exceeded\n",
      "]\n"
     ]
    }
   ],
   "source": [
    "### Characters reach level 2\n",
    "# neo.level_up(6) #d8\n",
    "dardan.level_up(5) #d10\n",
    "varus.level_up(8) #d8\n",
    "galenas.level_up(7) #d8\n",
    "davorin.level_up(6) #d10\n",
    "nahcren.level_up(6) #d12\n",
    "louis.level_up(8) #d12\n",
    "\n",
    "players = [dardan, varus, galenas, davorin, nahcren, louis]\n",
    "\n",
    "for player in players:\n",
    "    print(player.base_hp)\n",
    "    "
   ]
  },
  {
   "cell_type": "code",
   "execution_count": 36,
   "metadata": {},
   "outputs": [
    {
     "name": "stdout",
     "output_type": "stream",
     "text": [
      "Added player Dardan\n",
      "Added player Varus\n",
      "Added player Galenas\n",
      "Added player Davorin\n",
      "Added player Nachren\n",
      "Added player Louis Vuitton\n"
     ]
    }
   ],
   "source": [
    "game = Session()\n",
    "game.add_players([dardan, varus, galenas, davorin, nahcren, louis])\n"
   ]
  },
  {
   "cell_type": "code",
   "execution_count": 68,
   "metadata": {},
   "outputs": [],
   "source": [
    "### Add NPCs\n",
    "jav_ranged = Weapon('JAvelin', 'ranged', '2d6', 'piercing')\n",
    "jav_melee = Weapon('Javelin', 'melee', '2d6', 'piercing')\n",
    "\n",
    "greatsword = Weapon('Greatsword', 'melee', '2d6', 'piercing')\n",
    "battleaxe_one = Weapon('Battleaxe', 'melee', '2d8', 'slashing')\n",
    "battleaxe_two = Weapon('Battleaxe', 'melee', '2d10', 'slashing')\n",
    "\n",
    "\n",
    "\n",
    "hobgoblin_cap = Character('Darkth', 3, 39, 'Hobgoblin',\n",
    "                      [15, 14, 14, 12, 10, 13],\n",
    "                     greatsword,\n",
    "                     Armor('Half plate', 15, 'heavy'))\n",
    "\n",
    "half_ogres = [Character('ogre', 2, 30, 'Half ogre', \n",
    "                       [17, 10, 14, 7, 9, 10],\n",
    "                       battleaxe_one,\n",
    "                       Armor('Hide', 12, 'light')) for i in range(3)]\n",
    "\n",
    "spiders = [Character('spider', 2, 2, 'Spider',\n",
    "                      [14, 16, 12, 2, 11, 4],\n",
    "                      Weapon('Bite', 'melee', '1d8', 'piercing'),\n",
    "                      Armor('Natural', 14, 'NA')) for i in range(5)]\n",
    "\n",
    "nat_armor = Armor('Natural', 12, 'NA')\n",
    "\n",
    "griffon = Character('griffon', 3, 39, 'Griffon',\n",
    "                    [18, 15, 16, 2, 13, 8],\n",
    "                    Weapon('Beak', 'melee', '1d8', 'piercing'),\n",
    "                    nat_armor)\n",
    "\n",
    "claws = Weapon('Claws', 'melee', '2d6', 'slashing')\n",
    "\n",
    "hyena = Character('hyena', 3, 50, 'Hyena',\n",
    "                 [16, 14, 14, 2, 12, 7],\n",
    "                 Weapon('Bite', 'melee', '2d6', 'piercing'), \n",
    "                 nat_armor)\n",
    "\n",
    "\n",
    "## Has venom and target makes a CON DC 11 ST and takes half of 2d8 if succeeds\n",
    "web = Weapon('Web', 'Ranged', 'restrained', 'none')\n",
    "## Can make a DC 12 Strength Check to burst from webbing\n",
    "\n",
    "\n",
    "\n",
    "\n"
   ]
  },
  {
   "cell_type": "code",
   "execution_count": null,
   "metadata": {},
   "outputs": [],
   "source": [
    "game.skill_check()\n"
   ]
  },
  {
   "cell_type": "code",
   "execution_count": 60,
   "metadata": {},
   "outputs": [
    {
     "name": "stdout",
     "output_type": "stream",
     "text": [
      "6.5\n",
      "varus None\n",
      "10.5\n",
      "nahcren None\n",
      "24.5\n",
      "louis None\n",
      "7.5\n",
      "dardan None\n",
      "22.5\n",
      "davorin None\n",
      "{1: 3, 2: 2, 3: 1, 4: 1, 5: 0, 6: -1}\n"
     ]
    }
   ],
   "source": [
    "def initiative(roll, character):\n",
    "    print(roll + character.get_mod(Ability.DEX))\n",
    "    \n",
    "\n",
    "print('varus', initiative(4, varus))\n",
    "# print('galenas', initiative(6, galenas))\n",
    "print('nahcren', initiative(6, nahcren))\n",
    "print('louis', initiative(20, louis))\n",
    "print('dardan', initiative(3, dardan))\n",
    "print('davorin', initiative(20, davorin))\n",
    "#CHARACTER LIST\n",
    "# dardan, varus, galenas, davorin, nahcren, louis \n",
    "\n",
    "# varus.take_damage(7)\n",
    "\n",
    "print(nahcren.abilities)\n",
    "\n",
    "\n",
    "##\n",
    "#G1\n",
    "#G2\n",
    "#Nahcren\n",
    "#Varus\n",
    "\n"
   ]
  },
  {
   "cell_type": "code",
   "execution_count": 42,
   "metadata": {},
   "outputs": [],
   "source": [
    "#COMBAT ORDER\n",
    "\"\"\"\n",
    "Louis\n",
    "Nahcren\n",
    "Varus\n",
    "Galenas\n",
    "Basilisk\n",
    "Dardan\n",
    "Davorin\n",
    "\"\"\"\n",
    "\n",
    "basilisk = Character('basilisk', 3, 52, 'Basilisk',\n",
    "                 [16, 8, 15, 2, 8, 7],\n",
    "                 Weapon('Bite', 'melee', '2d6', 'piercing'), \n",
    "                 Armor('scales',15,'na'))"
   ]
  },
  {
   "cell_type": "code",
   "execution_count": 76,
   "metadata": {},
   "outputs": [
    {
     "name": "stdout",
     "output_type": "stream",
     "text": [
      "Success.\n"
     ]
    }
   ],
   "source": [
    "# LOUIS\n",
    "# game.attack(louis, basilisk, 9, )\n",
    "game.skillcheck(louis, Skills.Acrobatics, 8, Difficulty.MEDIUM)"
   ]
  },
  {
   "cell_type": "code",
   "execution_count": 55,
   "metadata": {},
   "outputs": [],
   "source": []
  },
  {
   "cell_type": "code",
   "execution_count": 45,
   "metadata": {},
   "outputs": [
    {
     "name": "stdout",
     "output_type": "stream",
     "text": [
      "Attack Success. You deal damage with your sword\n"
     ]
    }
   ],
   "source": [
    "#NACHREN\n",
    "game.attack(nahcren, enemy, 13, 10)"
   ]
  },
  {
   "cell_type": "code",
   "execution_count": 52,
   "metadata": {},
   "outputs": [
    {
     "name": "stdout",
     "output_type": "stream",
     "text": [
      "Attack Success. You deal damage with your sword\n",
      "basilisk falls unconscious.\n"
     ]
    }
   ],
   "source": [
    "# VARUS\n",
    "game.attack(varus, enemy, 15, 3)"
   ]
  },
  {
   "cell_type": "code",
   "execution_count": null,
   "metadata": {},
   "outputs": [],
   "source": [
    "# GALENAS\n",
    "game.attack(galenas, enemy, 3, )"
   ]
  },
  {
   "cell_type": "code",
   "execution_count": 47,
   "metadata": {},
   "outputs": [
    {
     "name": "stdout",
     "output_type": "stream",
     "text": [
      "You suck and you missed.\n"
     ]
    }
   ],
   "source": []
  },
  {
   "cell_type": "code",
   "execution_count": 77,
   "metadata": {},
   "outputs": [
    {
     "name": "stdout",
     "output_type": "stream",
     "text": [
      "You suck and you missed.\n"
     ]
    }
   ],
   "source": [
    "#DARDAN\n",
    "game.attack(dardan, enemy, 8, 8)"
   ]
  },
  {
   "cell_type": "code",
   "execution_count": 85,
   "metadata": {},
   "outputs": [
    {
     "name": "stdout",
     "output_type": "stream",
     "text": [
      "Attack Success. You deal damage with your sword\n",
      "spider dies.\n"
     ]
    }
   ],
   "source": [
    "#DAVORIN\n",
    "game.attack(davorin, spiders[1], 19, 2)"
   ]
  },
  {
   "cell_type": "code",
   "execution_count": 84,
   "metadata": {},
   "outputs": [
    {
     "name": "stdout",
     "output_type": "stream",
     "text": [
      "Attack Success. You deal damage with your sword\n"
     ]
    }
   ],
   "source": [
    "#ENEMY\n",
    "game.attack(enemy, nahcren, 17, 8)"
   ]
  },
  {
   "cell_type": "code",
   "execution_count": 80,
   "metadata": {},
   "outputs": [
    {
     "name": "stdout",
     "output_type": "stream",
     "text": [
      "{'name': 'Bite', 'atktype': 'melee', 'droll': '1d8', 'dtype': 'piercing'}\n"
     ]
    }
   ],
   "source": [
    "#spider0\n",
    "#spider1\n",
    "#louis\n",
    "#spider2\n",
    "#davorin\n",
    "#nachren\n",
    "#dardan\n",
    "#varus\n",
    "\n",
    "# enemy = half_ogres[0]\n",
    "# enemy = half_ogres[1]\n",
    "# enemy = half_ogres[2]\n",
    "\n",
    "# enemy = hyena\n",
    "\n",
    "# enemy = hobgoblin_cap\n",
    "\n",
    "print(enemy.cur_weapon.to_json())"
   ]
  },
  {
   "cell_type": "code",
   "execution_count": 72,
   "metadata": {},
   "outputs": [],
   "source": [
    "dardan.cur_weapon = dardan_greatsword\n"
   ]
  },
  {
   "cell_type": "code",
   "execution_count": 82,
   "metadata": {},
   "outputs": [
    {
     "name": "stdout",
     "output_type": "stream",
     "text": [
      "spider dies.\n"
     ]
    }
   ],
   "source": [
    "spiders[1].take_damage(9)"
   ]
  },
  {
   "cell_type": "code",
   "execution_count": 90,
   "metadata": {},
   "outputs": [
    {
     "name": "stdout",
     "output_type": "stream",
     "text": [
      "Success.\n"
     ]
    }
   ],
   "source": [
    "game.skillcheck(davorin, Skills.Deception, 16, Difficulty.HARD)"
   ]
  },
  {
   "cell_type": "code",
   "execution_count": null,
   "metadata": {},
   "outputs": [],
   "source": [
    "#It was hard to consistently use this to take turns\n",
    "# Need to automate turns and just have to type in a roll and the rest is handled\n",
    "# Need more output like new health, damage done, etc.\n",
    "# Need to have more dialogue prepped\n",
    "# \n",
    "\n",
    "#Players gained 2x50xp + 3x200 = 700"
   ]
  }
 ],
 "metadata": {
  "kernelspec": {
   "display_name": "Python 3",
   "language": "python",
   "name": "python3"
  },
  "language_info": {
   "codemirror_mode": {
    "name": "ipython",
    "version": 3
   },
   "file_extension": ".py",
   "mimetype": "text/x-python",
   "name": "python",
   "nbconvert_exporter": "python",
   "pygments_lexer": "ipython3",
   "version": "3.6.1"
  }
 },
 "nbformat": 4,
 "nbformat_minor": 2
}
